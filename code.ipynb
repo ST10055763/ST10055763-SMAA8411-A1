{
 "cells": [
  {
   "cell_type": "code",
   "execution_count": 3,
   "metadata": {},
   "outputs": [
    {
     "name": "stdout",
     "output_type": "stream",
     "text": [
      "Optimization terminated successfully.\n",
      "         Current function value: 0.204414\n",
      "         Iterations 10\n",
      "                           Logit Regression Results                           \n",
      "==============================================================================\n",
      "Dep. Variable:                      y   No. Observations:                  466\n",
      "Model:                          Logit   Df Residuals:                      455\n",
      "Method:                           MLE   Df Model:                           10\n",
      "Date:                Thu, 10 Apr 2025   Pseudo R-squ.:                  0.7050\n",
      "Time:                        22:21:38   Log-Likelihood:                -95.257\n",
      "converged:                       True   LL-Null:                       -322.94\n",
      "Covariance Type:            nonrobust   LLR p-value:                 1.500e-91\n",
      "==============================================================================\n",
      "                 coef    std err          z      P>|z|      [0.025      0.975]\n",
      "------------------------------------------------------------------------------\n",
      "const        -34.8311      6.586     -5.289      0.000     -47.739     -21.923\n",
      "x1            -0.0704      0.033     -2.133      0.033      -0.135      -0.006\n",
      "x2            43.1917      6.752      6.397      0.000      29.958      56.426\n",
      "x3             0.0275      0.011      2.444      0.015       0.005       0.049\n",
      "x4             0.6717      0.217      3.101      0.002       0.247       1.096\n",
      "x5             0.7432      0.154      4.821      0.000       0.441       1.045\n",
      "x6            -0.0086      0.003     -3.133      0.002      -0.014      -0.003\n",
      "x7             0.3536      0.115      3.068      0.002       0.128       0.580\n",
      "x8            -0.0118      0.006     -1.864      0.062      -0.024       0.001\n",
      "x9             0.0690      0.048      1.430      0.153      -0.026       0.164\n",
      "x10            0.1477      0.042      3.476      0.001       0.064       0.231\n",
      "==============================================================================\n",
      "\n",
      "Possibly complete quasi-separation: A fraction 0.37 of observations can be\n",
      "perfectly predicted. This might indicate that there is complete\n",
      "quasi-separation. In this case some parameters will not be identified.\n",
      "\n",
      "Coefficient for β₉: 0.06896871636140625\n",
      "Standard Error for β₉: 0.048235958056575004\n",
      "95% Confidence Interval for β₉: (-0.025573761429480757, 0.16351119415229326)\n"
     ]
    }
   ],
   "source": [
    "import pandas as pd\n",
    "import statsmodels.api as sm\n",
    "\n",
    "# Load your Excel file and the \"Q3\" sheet\n",
    "# Reference: https://pandas.pydata.org/docs/reference/api/pandas.read_excel.html\n",
    "df = pd.read_excel(\"SMAA8411 A1 Submission - ST10055763 (K Maharajh).xlsx\", sheet_name=\"Q3\")\n",
    "\n",
    "# Drop rows with missing values to avoid errors in model fitting\n",
    "# Reference: https://pandas.pydata.org/docs/reference/api/pandas.DataFrame.dropna.html\n",
    "df = df.dropna(subset=['x1', 'x2', 'x3', 'x4', 'x5', 'x6', 'x7', 'x8', 'x9', 'x10', 'y'])\n",
    "\n",
    "# Define features (X) and target variable (y)\n",
    "X = df[['x1', 'x2', 'x3', 'x4', 'x5', 'x6', 'x7', 'x8', 'x9', 'x10']]\n",
    "y = df['y']\n",
    "\n",
    "# Add constant column to include intercept in the model\n",
    "# Reference: https://www.statsmodels.org/stable/generated/statsmodels.tools.tools.add_constant.html\n",
    "X = sm.add_constant(X)\n",
    "\n",
    "# Fit logistic regression model using Maximum Likelihood Estimation\n",
    "# Reference: https://www.statsmodels.org/stable/generated/statsmodels.discrete.discrete_model.Logit.html\n",
    "model = sm.Logit(y, X).fit()\n",
    "\n",
    "# Show regression results including coefficients and standard errors\n",
    "# Reference: https://www.statsmodels.org/stable/generated/statsmodels.discrete.discrete_model.BinaryResults.html\n",
    "print(model.summary())\n",
    "\n",
    "# Extract the coefficient (β9) and its standard error\n",
    "beta_9 = model.params['x9']\n",
    "se_9 = model.bse['x9']\n",
    "\n",
    "# Calculate 95% confidence interval for β9 using normal approximation (z = 1.96)\n",
    "# Reference: https://en.wikipedia.org/wiki/Confidence_interval#Basic_Steps\n",
    "z = 1.96\n",
    "ci_lower = beta_9 - z * se_9\n",
    "ci_upper = beta_9 + z * se_9\n",
    "\n",
    "print(f\"\\nCoefficient for β₉: {beta_9}\")\n",
    "print(f\"Standard Error for β₉: {se_9}\")\n",
    "print(f\"95% Confidence Interval for β₉: ({ci_lower}, {ci_upper})\")\n"
   ]
  }
 ],
 "metadata": {
  "kernelspec": {
   "display_name": "Python 3",
   "language": "python",
   "name": "python3"
  },
  "language_info": {
   "codemirror_mode": {
    "name": "ipython",
    "version": 3
   },
   "file_extension": ".py",
   "mimetype": "text/x-python",
   "name": "python",
   "nbconvert_exporter": "python",
   "pygments_lexer": "ipython3",
   "version": "3.13.2"
  }
 },
 "nbformat": 4,
 "nbformat_minor": 2
}
